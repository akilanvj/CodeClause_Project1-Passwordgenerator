{
  "nbformat": 4,
  "nbformat_minor": 0,
  "metadata": {
    "colab": {
      "provenance": []
    },
    "kernelspec": {
      "name": "python3",
      "display_name": "Python 3"
    },
    "language_info": {
      "name": "python"
    }
  },
  "cells": [
    {
      "cell_type": "code",
      "source": [
        "#Random password generator\n",
        "\n",
        "import string\n",
        "import random\n",
        "\n",
        "# Getting password length\n",
        "length = int(input(\"Enter password length: \"))\n",
        "\n",
        "print('''Choose character set for password from these :\n",
        "         1. Digits\n",
        "         2. Letters\n",
        "         3. Special characters\n",
        "         4. Exit''')\n",
        "\n",
        "characterList = \"\"\n",
        "\n",
        "# Getting character set for password\n",
        "while(True):\n",
        "    choice = int(input(\"Pick a number \"))\n",
        "    if(choice == 1):\n",
        "\n",
        "        # Adding letters to possible characters\n",
        "        characterList += string.ascii_letters\n",
        "    elif(choice == 2):\n",
        "\n",
        "        # Adding digits to possible characters\n",
        "        characterList += string.digits\n",
        "    elif(choice == 3):\n",
        "\n",
        "        # Adding special characters to possible\n",
        "        # characters\n",
        "        characterList += string.punctuation\n",
        "    elif(choice == 4):\n",
        "        break\n",
        "    else:\n",
        "        print(\"Please pick a valid option!\")\n",
        "\n",
        "password = []\n",
        "\n",
        "for i in range(length):\n",
        "\n",
        "    # Picking a random character from our\n",
        "    # character list\n",
        "    randomchar = random.choice(characterList)\n",
        "\n",
        "    # appending a random character to password\n",
        "    password.append(randomchar)\n",
        "\n",
        "# printing password as a string\n",
        "print(\"The random password is \" + \"\".join(password))"
      ],
      "metadata": {
        "colab": {
          "base_uri": "https://localhost:8080/"
        },
        "id": "xbSBKOZtQyxB",
        "outputId": "ef7f7b1a-6889-4c00-934d-835a4b76e497"
      },
      "execution_count": null,
      "outputs": [
        {
          "output_type": "stream",
          "name": "stdout",
          "text": [
            "Enter password length: 10\n",
            "Choose character set for password from these :\n",
            "         1. Digits\n",
            "         2. Letters\n",
            "         3. Special characters\n",
            "         4. Exit\n",
            "Pick a number 1\n",
            "Pick a number 2\n",
            "Pick a number 4\n",
            "The random password is xuajAJCEi6\n"
          ]
        }
      ]
    }
  ]
}